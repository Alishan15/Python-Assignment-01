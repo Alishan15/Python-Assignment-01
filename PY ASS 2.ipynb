{
 "cells": [
  {
   "cell_type": "code",
   "execution_count": 9,
   "metadata": {},
   "outputs": [
    {
     "name": "stdout",
     "output_type": "stream",
     "text": [
      "Enter 'x' for exit.\n",
      "Enter marks obtained in 5 subjects: \n",
      "33\n",
      "23\n",
      "44\n",
      "34\n",
      "51\n",
      "Average Marks =  37.0\n",
      "Percentage Marks =  37.0 %\n",
      "Your Grade is F\n"
     ]
    }
   ],
   "source": [
    "# Python Program - Calculate Average and Percentage Marks\n",
    "\n",
    "print(\"Enter 'x' for exit.\");\n",
    "print(\"Enter marks obtained in 5 subjects: \");\n",
    "m1 = input();\n",
    "if m1 == 'x':\n",
    "    exit();\n",
    "else:\n",
    "    m2 = input();\n",
    "    m3 = input();\n",
    "    m4 = input();\n",
    "    m5 = input();\n",
    "    mark1 = int(m1);\n",
    "    mark2 = int(m2);\n",
    "    mark3 = int(m3);\n",
    "    mark4 = int(m4);\n",
    "    mark5 = int(m5);\n",
    "    sum = mark1 + mark2 + mark3 + mark4 + mark5;\n",
    "    average = sum/5;\n",
    "    percentage = (sum/500)*100;\n",
    "    print(\"Average Marks = \", average);\n",
    "    print(\"Percentage Marks = \", percentage,\"%\");\n",
    "if(average>=91 and average<=100):\n",
    "    print(\"Your Grade is A+\");\n",
    "elif(average>=81 and average<=90):\n",
    "    print(\"Your Grade is A\");    \n",
    "elif(average>=71 and average<=80):\n",
    "    print(\"Your Grade is B+\");\n",
    "elif(average>=61 and average<=70):\n",
    "    print(\"Your Grade is B\");\n",
    "elif(average>=51 and average<=60):\n",
    "    print(\"Your Grade is C+\");\n",
    "elif(average>=41 and average<=50):\n",
    "    print(\"Your Grade is C\");\n",
    "elif(average>=0 and average<=40):\n",
    "    print(\"Your Grade is F\");\n",
    "else:\n",
    "    \tprint(\"FAIL..!!\");"
   ]
  },
  {
   "cell_type": "code",
   "execution_count": 11,
   "metadata": {},
   "outputs": [
    {
     "name": "stdout",
     "output_type": "stream",
     "text": [
      "Enter a number: 5\n",
      "5 is Odd\n"
     ]
    }
   ],
   "source": [
    "num = int(input(\"Enter a number: \"))\n",
    "if (num % 2) == 0:\n",
    "   print(\"{0} is Even\".format(num))\n",
    "else:\n",
    "   print(\"{0} is Odd\".format(num))"
   ]
  },
  {
   "cell_type": "code",
   "execution_count": 13,
   "metadata": {},
   "outputs": [
    {
     "name": "stdout",
     "output_type": "stream",
     "text": [
      "4\n"
     ]
    }
   ],
   "source": [
    "List1 = ['a','b','c','d']\n",
    "print(len(List1))"
   ]
  },
  {
   "cell_type": "code",
   "execution_count": 1,
   "metadata": {},
   "outputs": [
    {
     "name": "stdout",
     "output_type": "stream",
     "text": [
      "How many numbers: 5\n",
      "Enter number 1\n",
      "Enter number 2\n",
      "Enter number 3\n",
      "Enter number 4\n",
      "Enter number 5\n",
      "Sum of elements in given list is : 15\n"
     ]
    }
   ],
   "source": [
    "lst = []\n",
    "num = int(input('How many numbers: '))\n",
    "for n in range(num):\n",
    "    numbers = int(input('Enter number '))\n",
    "    lst.append(numbers)\n",
    "print(\"Sum of elements in given list is :\", sum(lst))"
   ]
  },
  {
   "cell_type": "code",
   "execution_count": 14,
   "metadata": {},
   "outputs": [
    {
     "name": "stdout",
     "output_type": "stream",
     "text": [
      "How many numbers: 4\n",
      "Enter number 12\n",
      "Enter number 3\n",
      "Enter number 5\n",
      "Enter number 7\n",
      "Maximum element in the list is : 12\n"
     ]
    }
   ],
   "source": [
    "lst = []\n",
    "num = int(input('How many numbers: '))\n",
    "for n in range(num):\n",
    "    numbers = int(input('Enter number '))\n",
    "    lst.append(numbers)\n",
    "print(\"Maximum element in the list is :\", max(lst))"
   ]
  },
  {
   "cell_type": "code",
   "execution_count": 19,
   "metadata": {},
   "outputs": [
    {
     "name": "stdout",
     "output_type": "stream",
     "text": [
      "Largest element is: 99\n"
     ]
    }
   ],
   "source": [
    "list1 = [10, 20, 4, 45, 99] \n",
    "  \n",
    "  \n",
    "# printing the maximum element \n",
    "print(\"Largest element is:\", max(list1)) "
   ]
  },
  {
   "cell_type": "code",
   "execution_count": 29,
   "metadata": {},
   "outputs": [
    {
     "name": "stdout",
     "output_type": "stream",
     "text": [
      "[1, 1, 2, 3]\n"
     ]
    }
   ],
   "source": [
    "a = [1, 1, 2, 3, 5, 8, 13, 21, 34, 55, 89]\n",
    "\n",
    "new_list = []\n",
    "\n",
    "for item in a:\n",
    "  \n",
    "       if item < 5:\n",
    "    \n",
    "         new_list.append(item)\n",
    "print(new_list)\n"
   ]
  },
  {
   "cell_type": "code",
   "execution_count": null,
   "metadata": {},
   "outputs": [],
   "source": []
  }
 ],
 "metadata": {
  "kernelspec": {
   "display_name": "Python 3",
   "language": "python",
   "name": "python3"
  },
  "language_info": {
   "codemirror_mode": {
    "name": "ipython",
    "version": 3
   },
   "file_extension": ".py",
   "mimetype": "text/x-python",
   "name": "python",
   "nbconvert_exporter": "python",
   "pygments_lexer": "ipython3",
   "version": "3.7.3"
  }
 },
 "nbformat": 4,
 "nbformat_minor": 2
}
