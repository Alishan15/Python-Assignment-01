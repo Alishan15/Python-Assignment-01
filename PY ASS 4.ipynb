{
 "cells": [
  {
   "cell_type": "markdown",
   "metadata": {},
   "source": [
    "Question1:\n",
    "Use a dictionary to store information about a person you know. Store their first name, last name, age,\n",
    "and the city in which they live. You should have keys such as first_name, last_name, age, and city. Print\n",
    "each piece of information stored in your dictionary. Add a new key value pair about qualification then\n",
    "update the qualification value to high academic level then delete it."
   ]
  },
  {
   "cell_type": "code",
   "execution_count": 22,
   "metadata": {},
   "outputs": [],
   "source": [
    "dic = {\"first_name\":\"Hamza\", \"last_name\":\"Ali\", \"age\":23, \"city\":\"Karachi\"}"
   ]
  },
  {
   "cell_type": "code",
   "execution_count": 23,
   "metadata": {},
   "outputs": [
    {
     "name": "stdout",
     "output_type": "stream",
     "text": [
      "first_name Hamza\n",
      "last_name Ali\n",
      "age 23\n",
      "city Karachi\n"
     ]
    }
   ],
   "source": [
    "for k,v in dic.items():\n",
    "    print(k,v)"
   ]
  },
  {
   "cell_type": "code",
   "execution_count": 24,
   "metadata": {},
   "outputs": [],
   "source": [
    "dic['qualification']=\"Intermediate\""
   ]
  },
  {
   "cell_type": "code",
   "execution_count": 25,
   "metadata": {},
   "outputs": [
    {
     "data": {
      "text/plain": [
       "{'first_name': 'Hamza',\n",
       " 'last_name': 'Ali',\n",
       " 'age': 23,\n",
       " 'city': 'Karachi',\n",
       " 'qualification': 'Intermediate'}"
      ]
     },
     "execution_count": 25,
     "metadata": {},
     "output_type": "execute_result"
    }
   ],
   "source": [
    "dic"
   ]
  },
  {
   "cell_type": "code",
   "execution_count": 26,
   "metadata": {},
   "outputs": [],
   "source": [
    "dic.update({\"qualification\":\"Graduate\"})"
   ]
  },
  {
   "cell_type": "code",
   "execution_count": 27,
   "metadata": {},
   "outputs": [
    {
     "data": {
      "text/plain": [
       "{'first_name': 'Hamza',\n",
       " 'last_name': 'Ali',\n",
       " 'age': 23,\n",
       " 'city': 'Karachi',\n",
       " 'qualification': 'Graduate'}"
      ]
     },
     "execution_count": 27,
     "metadata": {},
     "output_type": "execute_result"
    }
   ],
   "source": [
    "dic"
   ]
  },
  {
   "cell_type": "code",
   "execution_count": 28,
   "metadata": {},
   "outputs": [],
   "source": [
    "del dic['qualification']\n"
   ]
  },
  {
   "cell_type": "code",
   "execution_count": 30,
   "metadata": {},
   "outputs": [
    {
     "name": "stdout",
     "output_type": "stream",
     "text": [
      "{'first_name': 'Hamza', 'last_name': 'Ali', 'age': 23, 'city': 'Karachi'}\n"
     ]
    }
   ],
   "source": [
    "print(dic)"
   ]
  },
  {
   "cell_type": "code",
   "execution_count": null,
   "metadata": {},
   "outputs": [],
   "source": []
  },
  {
   "cell_type": "markdown",
   "metadata": {},
   "source": [
    "Question2:\n",
    "\n",
    "Make a dictionary called cities. Use the names of three cities as keys in your dictionary. Create a\n",
    "dictionary of information about each city and include the country that the city is in, its approximate\n",
    "population, and one fact about that city. The keys for each city’s dictionary should be something like\n",
    "country, population, and fact. Print the name of each city and all of the information you have stored\n",
    "about it.\n",
    "\n"
   ]
  },
  {
   "cell_type": "code",
   "execution_count": 49,
   "metadata": {},
   "outputs": [],
   "source": [
    "cities = {\"Karachi\":city_karachi,\"Lahore\":city_Lahore,\"Islamabad\":city_Isb}"
   ]
  },
  {
   "cell_type": "code",
   "execution_count": 50,
   "metadata": {},
   "outputs": [],
   "source": [
    "city_karachi = {\"country\":\"Pakistan\",\"Population\":\"15.7 Million\",\"Fact\":\"Best Street Food\"}"
   ]
  },
  {
   "cell_type": "code",
   "execution_count": 51,
   "metadata": {},
   "outputs": [],
   "source": [
    "city_Lahore = {\"country\":\"Pakistan\",\"Population\":\"12.3 Million\",\"Fact\":\"Best To Visit Places\"}"
   ]
  },
  {
   "cell_type": "code",
   "execution_count": 52,
   "metadata": {},
   "outputs": [],
   "source": [
    "city_Isb = {\"country\":\"Pakistan\",\"Population\":\"1.09 Million\",\"Fact\":\"Mountain Places\"}"
   ]
  },
  {
   "cell_type": "code",
   "execution_count": 54,
   "metadata": {},
   "outputs": [
    {
     "name": "stdout",
     "output_type": "stream",
     "text": [
      "Karachi {'country': 'Pakistan', 'Population': '15.7 Million', 'Fact': 'Best Street Food'}\n",
      "Lahore {'country': 'Pakistan', 'Population': '12.3 Million', 'Fact': 'Best To Visit Places'}\n",
      "Islamabad {'country': 'Pakistan', 'Population': '1.09 Million', 'Fact': 'Mountain Places'}\n"
     ]
    }
   ],
   "source": [
    "for k,v in cities.items():\n",
    "    print(k,v)"
   ]
  },
  {
   "cell_type": "code",
   "execution_count": null,
   "metadata": {},
   "outputs": [],
   "source": []
  },
  {
   "cell_type": "markdown",
   "metadata": {},
   "source": [
    "\n",
    "Question3:\n",
    "\n",
    "A movie theater charges different ticket prices depending on a person’s age. If a person is under the age\n",
    "of 3, the ticket is free; if they are between 3 and 12, the ticket is $10; and if they are over age 12, the\n",
    "ticket is $15. Write a loop in which you ask users their age, and then tell them the cost of their movie\n",
    "ticket."
   ]
  },
  {
   "cell_type": "code",
   "execution_count": 1,
   "metadata": {},
   "outputs": [
    {
     "name": "stdout",
     "output_type": "stream",
     "text": [
      "\n",
      "Please enter your age: 2\n",
      "\n",
      "The ticket is free for you\n",
      "\n",
      " If you would like to check the price for another person please enter their age now or type \"quit\" to exit\n",
      "\n",
      "Please enter your age: 41\n",
      "\n",
      "Your ticket price is 15$\n",
      "\n",
      " If you would like to check the price for another person please enter their age now or type \"quit\" to exit\n",
      "\n",
      "Please enter your age: 12\n",
      "\n",
      "Your ticket price is 10$\n",
      "\n",
      " If you would like to check the price for another person please enter their age now or type \"quit\" to exit\n",
      "\n",
      "Please enter your age: 3\n",
      "\n",
      "Your ticket price is 10$\n",
      "\n",
      " If you would like to check the price for another person please enter their age now or type \"quit\" to exit\n",
      "\n",
      "Please enter your age: 5\n",
      "\n",
      "Your ticket price is 10$\n",
      "\n",
      " If you would like to check the price for another person please enter their age now or type \"quit\" to exit\n",
      "\n",
      "Please enter your age: quit\n"
     ]
    }
   ],
   "source": [
    "loop = True\n",
    "while loop:\n",
    "    age = input('\\nPlease enter your age: ')\n",
    "\n",
    "    if age == 'quit':\n",
    "        break\n",
    "    age = int(age)\n",
    "    if age < 3:\n",
    "        print(\"\\nThe ticket is free for you\")\n",
    "    elif age >= 3 and age <= 12:\n",
    "        print('\\nYour ticket price is 10$')\n",
    "    elif age > 12:\n",
    "        print('\\nYour ticket price is 15$')\n",
    "    else:\n",
    "        print('\\nInput not recognized')\n",
    "        break\n",
    "    \n",
    "    print('\\n If you would like to check the price for another person please enter their age now or type \"quit\" to exit')"
   ]
  },
  {
   "cell_type": "code",
   "execution_count": null,
   "metadata": {},
   "outputs": [],
   "source": []
  },
  {
   "cell_type": "markdown",
   "metadata": {},
   "source": [
    "Question4:\n",
    "\n",
    "Write a function called favorite_book() that accepts one parameter, title. The function should print a\n",
    "message, such as One of my favorite books is Alice in Wonderland. Call the function, making sure to\n",
    "include a book title as an argument in the function call.\n"
   ]
  },
  {
   "cell_type": "code",
   "execution_count": 6,
   "metadata": {},
   "outputs": [],
   "source": [
    "def favorite_book(title):\n",
    "    print(f'One of my favorite books is {title}.')"
   ]
  },
  {
   "cell_type": "code",
   "execution_count": 8,
   "metadata": {},
   "outputs": [
    {
     "name": "stdout",
     "output_type": "stream",
     "text": [
      "One of my favorite books is Alice in WonderLand.\n"
     ]
    }
   ],
   "source": [
    "favorite_book(\"Alice in WonderLand\")"
   ]
  },
  {
   "cell_type": "code",
   "execution_count": null,
   "metadata": {},
   "outputs": [],
   "source": []
  },
  {
   "cell_type": "markdown",
   "metadata": {},
   "source": [
    "Question5:\n",
    "\n",
    "Guess the number game\n",
    "Write a program which randomly generate a number between 1 to 30 and ask the user in input field to\n",
    "guess the correct number. Give three chances to user guess the number and also give hint to user if\n",
    "hidden number is greater or smaller than the number he given to input field."
   ]
  },
  {
   "cell_type": "code",
   "execution_count": 1,
   "metadata": {},
   "outputs": [
    {
     "name": "stdout",
     "output_type": "stream",
     "text": [
      "Hello!, What is your name?\n",
      "\n",
      "ALISHAN\n",
      "\n",
      "The number I am thinking of is between 1 and 30 ALISHAN\n",
      "Take a guess. \n",
      "14\n",
      "\n",
      "Number is too high\n",
      "Take a guess. \n",
      "10\n",
      "\n",
      "Number is too high\n",
      "Take a guess. \n",
      "5\n",
      "\n",
      "Number is too low\n",
      "Take a guess. \n",
      "7\n",
      "\n",
      "Well Done! ALISHAN You guessed the number in 4 guesses\n"
     ]
    }
   ],
   "source": [
    "import random\n",
    "numofguesses = 0\n",
    "\n",
    "print('Hello!, What is your name?\\n')\n",
    "name = input()\n",
    "\n",
    "\n",
    "number = random.randint(1,30)\n",
    "\n",
    "print(f\"\\nThe number I am thinking of is between 1 and 30 {name}\")\n",
    "\n",
    "while numofguesses < 6:\n",
    "    print('Take a guess. ')\n",
    "    guess = input(\"\")\n",
    "    guess = int(guess)\n",
    "    \n",
    "    numofguesses = numofguesses + 1\n",
    "    if guess < number:\n",
    "        print(\"\\nNumber is too low\")\n",
    "    if guess > number:\n",
    "        print(\"\\nNumber is too high\")\n",
    "    if guess == number:\n",
    "        break\n",
    "if guess == number:\n",
    "    numofguesses = str(numofguesses)\n",
    "    print(f\"\\nWell Done! {name} You guessed the number in {numofguesses} guesses\")\n",
    "    \n",
    "if guess != number:\n",
    "    number = str(number)\n",
    "    print(f\"\\nWrong! Unlucky, The number was {number}\")\n",
    "    \n",
    "    "
   ]
  },
  {
   "cell_type": "code",
   "execution_count": null,
   "metadata": {},
   "outputs": [],
   "source": []
  },
  {
   "cell_type": "code",
   "execution_count": null,
   "metadata": {},
   "outputs": [],
   "source": []
  }
 ],
 "metadata": {
  "kernelspec": {
   "display_name": "Python 3",
   "language": "python",
   "name": "python3"
  },
  "language_info": {
   "codemirror_mode": {
    "name": "ipython",
    "version": 3
   },
   "file_extension": ".py",
   "mimetype": "text/x-python",
   "name": "python",
   "nbconvert_exporter": "python",
   "pygments_lexer": "ipython3",
   "version": "3.7.3"
  }
 },
 "nbformat": 4,
 "nbformat_minor": 2
}
