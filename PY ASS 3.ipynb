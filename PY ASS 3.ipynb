{
 "cells": [
  {
   "cell_type": "code",
   "execution_count": 12,
   "metadata": {},
   "outputs": [
    {
     "name": "stdout",
     "output_type": "stream",
     "text": [
      "PYTHON CALCULATOR\n",
      "enter first number: 6\n",
      "enter second number: 8\n",
      "enter operator: *\n",
      "Answer: 48\n"
     ]
    }
   ],
   "source": [
    "print(\"PYTHON CALCULATOR\")\n",
    "\n",
    "val1= int(input(\"enter first number: \"))\n",
    "val2= int(input(\"enter second number: \"))\n",
    "opt = input(\"enter operator: \")\n",
    "\n",
    "if opt == '+':\n",
    "    val = val1 + val2\n",
    "    print(f\"Answer: {val}\")\n",
    "elif opt == '-':\n",
    "    val = val1 - val2\n",
    "    print(f\"Answer: {val}\")\n",
    "elif opt == '/':\n",
    "    val = val1 / val2\n",
    "    print(f\"Answer: {val}\")\n",
    "elif opt == '*':\n",
    "    val = val1 * val2\n",
    "    print(f\"Answer: {val}\")\n",
    "elif opt == '%':\n",
    "    val = val1 % val2\n",
    "    print(f\"Answer: {val}\")\n",
    "else:\n",
    "    print(\"Enter correct operator\")\n"
   ]
  },
  {
   "cell_type": "code",
   "execution_count": 6,
   "metadata": {},
   "outputs": [
    {
     "name": "stdout",
     "output_type": "stream",
     "text": [
      "Checking if numeric value exists:\n",
      " \n",
      "Not Numeric Value\n",
      "Not Numeric Value\n",
      "Numeric Value\n",
      "Not Numeric Value\n",
      "Not Numeric Value\n",
      "Not Numeric Value\n"
     ]
    }
   ],
   "source": [
    "list = [ 'a', 's', 3, 'b', 'd', 'r' ] \n",
    "  \n",
    "print(\"Checking if numeric value exists:\\n \") \n",
    "  \n",
    "for i in list: \n",
    "    if(type(i) == int): \n",
    "        print (\"Numeric Value\") \n",
    "    else:\n",
    "        print (\"Not Numeric Value\")"
   ]
  },
  {
   "cell_type": "code",
   "execution_count": 8,
   "metadata": {},
   "outputs": [
    {
     "name": "stdout",
     "output_type": "stream",
     "text": [
      "{1: 15, 2: 50}\n",
      "{1: 15, 2: 50, 5: 50}\n"
     ]
    }
   ],
   "source": [
    "d = {1:15, 2:50}\n",
    "print(d)\n",
    "d.update({5:50})\n",
    "print(d)"
   ]
  },
  {
   "cell_type": "code",
   "execution_count": 31,
   "metadata": {},
   "outputs": [
    {
     "name": "stdout",
     "output_type": "stream",
     "text": [
      "97\n"
     ]
    }
   ],
   "source": [
    "dic={'A':10,'B':30,'C':57}\n",
    "\n",
    "sum=0\n",
    "for k in dic.keys():\n",
    "    if (type(k)==int):\n",
    "        sum+=k\n",
    "\n",
    "for v in dic.values():\n",
    "    if (type(v)==int):\n",
    "        sum+=v\n",
    "\n",
    "print(sum)\n"
   ]
  },
  {
   "cell_type": "code",
   "execution_count": 35,
   "metadata": {},
   "outputs": [
    {
     "name": "stdout",
     "output_type": "stream",
     "text": [
      "Duplicate values 20\n",
      "Duplicate values 20\n",
      "Duplicate values 20\n",
      "Duplicate values 30\n",
      "Duplicate values 60\n",
      "Duplicate values -20\n",
      "Duplicate values -20\n",
      "Duplicate values -20\n"
     ]
    }
   ],
   "source": [
    "lis = [10, 20, 30, 20, 20, 30, 40, 50, -20, 60, 60, -20, -20] \n",
    "dup=[]\n",
    "for i in lis:\n",
    "    for j in dup:\n",
    "        if(i==j):\n",
    "            print(f'Duplicate values {i}')\n",
    "    dup.append(i)"
   ]
  },
  {
   "cell_type": "code",
   "execution_count": 71,
   "metadata": {},
   "outputs": [
    {
     "name": "stdout",
     "output_type": "stream",
     "text": [
      "Enter key to check: \n",
      "C\n",
      "Key is present and value of the key is: \n",
      "Ali\n"
     ]
    }
   ],
   "source": [
    "d={'A':47,'B':122,'C':'Ali'}\n",
    "key=input(\"Enter key to check: \\n\")\n",
    "if key in d.keys():\n",
    "      print(\"Key is present and value of the key is: \")\n",
    "      print(d[key])\n",
    "else:\n",
    "      print(\"Key isn't present!\")"
   ]
  },
  {
   "cell_type": "code",
   "execution_count": null,
   "metadata": {},
   "outputs": [],
   "source": []
  }
 ],
 "metadata": {
  "kernelspec": {
   "display_name": "Python 3",
   "language": "python",
   "name": "python3"
  },
  "language_info": {
   "codemirror_mode": {
    "name": "ipython",
    "version": 3
   },
   "file_extension": ".py",
   "mimetype": "text/x-python",
   "name": "python",
   "nbconvert_exporter": "python",
   "pygments_lexer": "ipython3",
   "version": "3.7.3"
  }
 },
 "nbformat": 4,
 "nbformat_minor": 2
}
